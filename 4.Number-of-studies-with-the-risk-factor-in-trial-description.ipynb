{
 "cells": [
  {
   "cell_type": "markdown",
   "metadata": {},
   "source": [
    "# Number-of-studies-with-the-risk-factor-in-trial-description"
   ]
  },
  {
   "cell_type": "code",
   "execution_count": 1,
   "metadata": {
    "_cell_guid": "b1076dfc-b9ad-4769-8c92-a6c4dae69d19",
    "_uuid": "8f2839f25d086af736a60e9eeb907d3b93b6e0e5",
    "scrolled": true
   },
   "outputs": [],
   "source": [
    "import numpy as np\n",
    "import pandas as pd \n",
    "import matplotlib.pyplot as plt"
   ]
  },
  {
   "cell_type": "markdown",
   "metadata": {},
   "source": [
    "### Setup quick umls "
   ]
  },
  {
   "cell_type": "code",
   "execution_count": 2,
   "metadata": {},
   "outputs": [
    {
     "name": "stderr",
     "output_type": "stream",
     "text": [
      "[nltk_data] Downloading package stopwords to\n",
      "[nltk_data]     /home/bitmman/nltk_data...\n",
      "[nltk_data]   Unzipping corpora/stopwords.zip.\n"
     ]
    }
   ],
   "source": [
    "from quickumls import QuickUMLS\n",
    "quickumls_fp = '/home/bitmman/umls/quickumls'\n",
    "matcher = QuickUMLS(quickumls_fp,threshold=0.8)"
   ]
  },
  {
   "cell_type": "markdown",
   "metadata": {},
   "source": [
    "### Import risk factors and their CUIs"
   ]
  },
  {
   "cell_type": "code",
   "execution_count": 3,
   "metadata": {
    "scrolled": true
   },
   "outputs": [
    {
     "data": {
      "text/html": [
       "<div>\n",
       "<style scoped>\n",
       "    .dataframe tbody tr th:only-of-type {\n",
       "        vertical-align: middle;\n",
       "    }\n",
       "\n",
       "    .dataframe tbody tr th {\n",
       "        vertical-align: top;\n",
       "    }\n",
       "\n",
       "    .dataframe thead th {\n",
       "        text-align: right;\n",
       "    }\n",
       "</style>\n",
       "<table border=\"1\" class=\"dataframe\">\n",
       "  <thead>\n",
       "    <tr style=\"text-align: right;\">\n",
       "      <th></th>\n",
       "      <th>Risk factors</th>\n",
       "      <th>CUI</th>\n",
       "      <th>Query</th>\n",
       "      <th>Concept</th>\n",
       "    </tr>\n",
       "  </thead>\n",
       "  <tbody>\n",
       "    <tr>\n",
       "      <th>0</th>\n",
       "      <td>Old age</td>\n",
       "      <td>C0231337,C1999167</td>\n",
       "      <td>Old_age</td>\n",
       "      <td>Aging</td>\n",
       "    </tr>\n",
       "    <tr>\n",
       "      <th>1</th>\n",
       "      <td>Males</td>\n",
       "      <td>C0086582</td>\n",
       "      <td>Males</td>\n",
       "      <td>Men</td>\n",
       "    </tr>\n",
       "    <tr>\n",
       "      <th>2</th>\n",
       "      <td>Chronic kidney disease</td>\n",
       "      <td>C1561643,C4075517,C4553188,C4075526</td>\n",
       "      <td>Chronic Kidney Diseases</td>\n",
       "      <td>Chronic Kidney Diseases</td>\n",
       "    </tr>\n",
       "    <tr>\n",
       "      <th>3</th>\n",
       "      <td>COPD</td>\n",
       "      <td>C0024117</td>\n",
       "      <td>COPD</td>\n",
       "      <td>COPD</td>\n",
       "    </tr>\n",
       "    <tr>\n",
       "      <th>4</th>\n",
       "      <td>Lung cancer</td>\n",
       "      <td>C0684249,C0242379,C1306460</td>\n",
       "      <td>Lung_cancer</td>\n",
       "      <td>Lung Cancer</td>\n",
       "    </tr>\n",
       "  </tbody>\n",
       "</table>\n",
       "</div>"
      ],
      "text/plain": [
       "             Risk factors                                  CUI  \\\n",
       "0                 Old age                    C0231337,C1999167   \n",
       "1                   Males                             C0086582   \n",
       "2  Chronic kidney disease  C1561643,C4075517,C4553188,C4075526   \n",
       "3                    COPD                             C0024117   \n",
       "4             Lung cancer           C0684249,C0242379,C1306460   \n",
       "\n",
       "                     Query                  Concept  \n",
       "0                  Old_age                    Aging  \n",
       "1                    Males                      Men  \n",
       "2  Chronic Kidney Diseases  Chronic Kidney Diseases  \n",
       "3                     COPD                     COPD  \n",
       "4              Lung_cancer              Lung Cancer  "
      ]
     },
     "execution_count": 3,
     "metadata": {},
     "output_type": "execute_result"
    }
   ],
   "source": [
    "dfa = pd.read_excel('./data/Risk_factor_list.xlsx')\n",
    "dfa.head()"
   ]
  },
  {
   "cell_type": "code",
   "execution_count": 4,
   "metadata": {},
   "outputs": [],
   "source": [
    "def intersection(lst1, lst2): \n",
    "    return list(set(lst1) & set(lst2)) \n",
    "\n",
    "def get_cuiList(text):\n",
    "    m = matcher.match(text, best_match=True, ignore_syntax=False)\n",
    "    cui_list = []\n",
    "    for chunk in m:\n",
    "        for dic in chunk:\n",
    "            cui_list.append(dic['cui'])\n",
    "\n",
    "    return list(set(cui_list))"
   ]
  },
  {
   "cell_type": "markdown",
   "metadata": {},
   "source": [
    "### Import collected Covid-19 clinical trials"
   ]
  },
  {
   "cell_type": "code",
   "execution_count": 5,
   "metadata": {},
   "outputs": [
    {
     "data": {
      "text/plain": [
       "(3765, 5)"
      ]
     },
     "execution_count": 5,
     "metadata": {},
     "output_type": "execute_result"
    }
   ],
   "source": [
    "dfn = pd.read_csv('./data/COVID-19_trials_11272020_updated.csv')\n",
    "cols = ['id','official_title','brief_summary','detailed_description','criteria']\n",
    "dfn = dfn[cols]\n",
    "dfn.shape"
   ]
  },
  {
   "cell_type": "code",
   "execution_count": 6,
   "metadata": {},
   "outputs": [
    {
     "data": {
      "text/html": [
       "<div>\n",
       "<style scoped>\n",
       "    .dataframe tbody tr th:only-of-type {\n",
       "        vertical-align: middle;\n",
       "    }\n",
       "\n",
       "    .dataframe tbody tr th {\n",
       "        vertical-align: top;\n",
       "    }\n",
       "\n",
       "    .dataframe thead th {\n",
       "        text-align: right;\n",
       "    }\n",
       "</style>\n",
       "<table border=\"1\" class=\"dataframe\">\n",
       "  <thead>\n",
       "    <tr style=\"text-align: right;\">\n",
       "      <th></th>\n",
       "      <th>id</th>\n",
       "      <th>official_title</th>\n",
       "      <th>brief_summary</th>\n",
       "      <th>detailed_description</th>\n",
       "      <th>criteria</th>\n",
       "    </tr>\n",
       "  </thead>\n",
       "  <tbody>\n",
       "    <tr>\n",
       "      <th>0</th>\n",
       "      <td>NCT04385004</td>\n",
       "      <td>Characterization of the Clinical, Biological a...</td>\n",
       "      <td>Renal damage in patients hospitalized for ARDS...</td>\n",
       "      <td>NaN</td>\n",
       "      <td>Inclusion Criteria:## - Patients over 18 years...</td>\n",
       "    </tr>\n",
       "    <tr>\n",
       "      <th>1</th>\n",
       "      <td>NCT04426292</td>\n",
       "      <td>SARS-COV-2 Seroprevalence and Seroconversion A...</td>\n",
       "      <td>A novel zoonotic coronavirus was discovered in...</td>\n",
       "      <td>NaN</td>\n",
       "      <td>Inclusion Criteria:## - Any adult employee of ...</td>\n",
       "    </tr>\n",
       "  </tbody>\n",
       "</table>\n",
       "</div>"
      ],
      "text/plain": [
       "            id                                     official_title  \\\n",
       "0  NCT04385004  Characterization of the Clinical, Biological a...   \n",
       "1  NCT04426292  SARS-COV-2 Seroprevalence and Seroconversion A...   \n",
       "\n",
       "                                       brief_summary detailed_description  \\\n",
       "0  Renal damage in patients hospitalized for ARDS...                  NaN   \n",
       "1  A novel zoonotic coronavirus was discovered in...                  NaN   \n",
       "\n",
       "                                            criteria  \n",
       "0  Inclusion Criteria:## - Patients over 18 years...  \n",
       "1  Inclusion Criteria:## - Any adult employee of ...  "
      ]
     },
     "execution_count": 6,
     "metadata": {},
     "output_type": "execute_result"
    }
   ],
   "source": [
    "dfn.head(2)"
   ]
  },
  {
   "cell_type": "markdown",
   "metadata": {},
   "source": [
    "#### Merging brief_summary and detailed_description"
   ]
  },
  {
   "cell_type": "code",
   "execution_count": 7,
   "metadata": {},
   "outputs": [
    {
     "data": {
      "text/html": [
       "<div>\n",
       "<style scoped>\n",
       "    .dataframe tbody tr th:only-of-type {\n",
       "        vertical-align: middle;\n",
       "    }\n",
       "\n",
       "    .dataframe tbody tr th {\n",
       "        vertical-align: top;\n",
       "    }\n",
       "\n",
       "    .dataframe thead th {\n",
       "        text-align: right;\n",
       "    }\n",
       "</style>\n",
       "<table border=\"1\" class=\"dataframe\">\n",
       "  <thead>\n",
       "    <tr style=\"text-align: right;\">\n",
       "      <th></th>\n",
       "      <th>id</th>\n",
       "      <th>official_title</th>\n",
       "      <th>brief_summary</th>\n",
       "      <th>detailed_description</th>\n",
       "      <th>criteria</th>\n",
       "      <th>summary</th>\n",
       "    </tr>\n",
       "  </thead>\n",
       "  <tbody>\n",
       "    <tr>\n",
       "      <th>0</th>\n",
       "      <td>NCT04385004</td>\n",
       "      <td>Characterization of the Clinical, Biological a...</td>\n",
       "      <td>Renal damage in patients hospitalized for ARDS...</td>\n",
       "      <td>NaN</td>\n",
       "      <td>Inclusion Criteria:## - Patients over 18 years...</td>\n",
       "      <td>Renal damage in patients hospitalized for ARDS...</td>\n",
       "    </tr>\n",
       "    <tr>\n",
       "      <th>1</th>\n",
       "      <td>NCT04426292</td>\n",
       "      <td>SARS-COV-2 Seroprevalence and Seroconversion A...</td>\n",
       "      <td>A novel zoonotic coronavirus was discovered in...</td>\n",
       "      <td>NaN</td>\n",
       "      <td>Inclusion Criteria:## - Any adult employee of ...</td>\n",
       "      <td>A novel zoonotic coronavirus was discovered in...</td>\n",
       "    </tr>\n",
       "  </tbody>\n",
       "</table>\n",
       "</div>"
      ],
      "text/plain": [
       "            id                                     official_title  \\\n",
       "0  NCT04385004  Characterization of the Clinical, Biological a...   \n",
       "1  NCT04426292  SARS-COV-2 Seroprevalence and Seroconversion A...   \n",
       "\n",
       "                                       brief_summary detailed_description  \\\n",
       "0  Renal damage in patients hospitalized for ARDS...                  NaN   \n",
       "1  A novel zoonotic coronavirus was discovered in...                  NaN   \n",
       "\n",
       "                                            criteria  \\\n",
       "0  Inclusion Criteria:## - Patients over 18 years...   \n",
       "1  Inclusion Criteria:## - Any adult employee of ...   \n",
       "\n",
       "                                             summary  \n",
       "0  Renal damage in patients hospitalized for ARDS...  \n",
       "1  A novel zoonotic coronavirus was discovered in...  "
      ]
     },
     "execution_count": 7,
     "metadata": {},
     "output_type": "execute_result"
    }
   ],
   "source": [
    "dfn['summary'] = dfn['brief_summary'].astype(str) + dfn['detailed_description'].astype(str)\n",
    "dfn.head(2)"
   ]
  },
  {
   "cell_type": "markdown",
   "metadata": {},
   "source": [
    "#### Getting CUI list for 'summary'"
   ]
  },
  {
   "cell_type": "code",
   "execution_count": 8,
   "metadata": {},
   "outputs": [],
   "source": [
    "# This process will take around 20 mins, we just need to run once and import it when we need it.\n",
    "dfn['CUI_summary'] = dfn['summary'].apply(get_cuiList)\n",
    "dfn.to_pickle('./data/COVID-19_trials_summary_cui.pkl')"
   ]
  },
  {
   "cell_type": "code",
   "execution_count": 9,
   "metadata": {},
   "outputs": [],
   "source": [
    "dfn = pd.read_pickle('./data/COVID-19_trials_summary_cui.pkl')"
   ]
  },
  {
   "cell_type": "code",
   "execution_count": 10,
   "metadata": {},
   "outputs": [
    {
     "data": {
      "text/plain": [
       "['C0231337', 'C1999167']"
      ]
     },
     "execution_count": 10,
     "metadata": {},
     "output_type": "execute_result"
    }
   ],
   "source": [
    "dfa['Cui_List'] = [item.split(',') for item in dfa.CUI]\n",
    "risk_factor_dic = dict(zip(dfa.Query, dfa.Cui_List))\n",
    "risk_factor_dic['Old_age']"
   ]
  },
  {
   "cell_type": "code",
   "execution_count": 11,
   "metadata": {},
   "outputs": [
    {
     "data": {
      "text/html": [
       "<div>\n",
       "<style scoped>\n",
       "    .dataframe tbody tr th:only-of-type {\n",
       "        vertical-align: middle;\n",
       "    }\n",
       "\n",
       "    .dataframe tbody tr th {\n",
       "        vertical-align: top;\n",
       "    }\n",
       "\n",
       "    .dataframe thead th {\n",
       "        text-align: right;\n",
       "    }\n",
       "</style>\n",
       "<table border=\"1\" class=\"dataframe\">\n",
       "  <thead>\n",
       "    <tr style=\"text-align: right;\">\n",
       "      <th></th>\n",
       "      <th>Old_age</th>\n",
       "      <th>Males</th>\n",
       "      <th>Chronic Kidney Diseases</th>\n",
       "      <th>COPD</th>\n",
       "      <th>Lung_cancer</th>\n",
       "      <th>Weak_immune_1</th>\n",
       "      <th>Obesity</th>\n",
       "      <th>Serious_heart_diseases</th>\n",
       "      <th>Sickle_cell_disease</th>\n",
       "      <th>Asthma</th>\n",
       "      <th>...</th>\n",
       "      <th>Cerebrovascular_disorder</th>\n",
       "      <th>Cystic_fibrosis</th>\n",
       "      <th>Hypertension</th>\n",
       "      <th>Weak_immune_2</th>\n",
       "      <th>Pregnancy</th>\n",
       "      <th>Liver_diseases</th>\n",
       "      <th>Pulmonary_fibrosis</th>\n",
       "      <th>Smoking</th>\n",
       "      <th>Diabetes</th>\n",
       "      <th>Thalassemia</th>\n",
       "    </tr>\n",
       "  </thead>\n",
       "  <tbody>\n",
       "    <tr>\n",
       "      <th>3760</th>\n",
       "      <td>0</td>\n",
       "      <td>0</td>\n",
       "      <td>0</td>\n",
       "      <td>0</td>\n",
       "      <td>0</td>\n",
       "      <td>0</td>\n",
       "      <td>0</td>\n",
       "      <td>0</td>\n",
       "      <td>0</td>\n",
       "      <td>0</td>\n",
       "      <td>...</td>\n",
       "      <td>0</td>\n",
       "      <td>0</td>\n",
       "      <td>0</td>\n",
       "      <td>0</td>\n",
       "      <td>0</td>\n",
       "      <td>0</td>\n",
       "      <td>0</td>\n",
       "      <td>0</td>\n",
       "      <td>0</td>\n",
       "      <td>0</td>\n",
       "    </tr>\n",
       "    <tr>\n",
       "      <th>3761</th>\n",
       "      <td>0</td>\n",
       "      <td>0</td>\n",
       "      <td>0</td>\n",
       "      <td>0</td>\n",
       "      <td>0</td>\n",
       "      <td>0</td>\n",
       "      <td>0</td>\n",
       "      <td>0</td>\n",
       "      <td>0</td>\n",
       "      <td>0</td>\n",
       "      <td>...</td>\n",
       "      <td>0</td>\n",
       "      <td>0</td>\n",
       "      <td>0</td>\n",
       "      <td>0</td>\n",
       "      <td>0</td>\n",
       "      <td>0</td>\n",
       "      <td>0</td>\n",
       "      <td>0</td>\n",
       "      <td>0</td>\n",
       "      <td>0</td>\n",
       "    </tr>\n",
       "    <tr>\n",
       "      <th>3762</th>\n",
       "      <td>0</td>\n",
       "      <td>0</td>\n",
       "      <td>0</td>\n",
       "      <td>0</td>\n",
       "      <td>0</td>\n",
       "      <td>0</td>\n",
       "      <td>0</td>\n",
       "      <td>0</td>\n",
       "      <td>0</td>\n",
       "      <td>0</td>\n",
       "      <td>...</td>\n",
       "      <td>0</td>\n",
       "      <td>0</td>\n",
       "      <td>0</td>\n",
       "      <td>0</td>\n",
       "      <td>0</td>\n",
       "      <td>0</td>\n",
       "      <td>0</td>\n",
       "      <td>0</td>\n",
       "      <td>0</td>\n",
       "      <td>0</td>\n",
       "    </tr>\n",
       "    <tr>\n",
       "      <th>3763</th>\n",
       "      <td>0</td>\n",
       "      <td>0</td>\n",
       "      <td>0</td>\n",
       "      <td>0</td>\n",
       "      <td>0</td>\n",
       "      <td>0</td>\n",
       "      <td>0</td>\n",
       "      <td>0</td>\n",
       "      <td>0</td>\n",
       "      <td>0</td>\n",
       "      <td>...</td>\n",
       "      <td>0</td>\n",
       "      <td>0</td>\n",
       "      <td>0</td>\n",
       "      <td>0</td>\n",
       "      <td>0</td>\n",
       "      <td>0</td>\n",
       "      <td>0</td>\n",
       "      <td>0</td>\n",
       "      <td>0</td>\n",
       "      <td>0</td>\n",
       "    </tr>\n",
       "    <tr>\n",
       "      <th>3764</th>\n",
       "      <td>0</td>\n",
       "      <td>0</td>\n",
       "      <td>0</td>\n",
       "      <td>0</td>\n",
       "      <td>0</td>\n",
       "      <td>0</td>\n",
       "      <td>0</td>\n",
       "      <td>0</td>\n",
       "      <td>0</td>\n",
       "      <td>0</td>\n",
       "      <td>...</td>\n",
       "      <td>0</td>\n",
       "      <td>0</td>\n",
       "      <td>0</td>\n",
       "      <td>0</td>\n",
       "      <td>0</td>\n",
       "      <td>0</td>\n",
       "      <td>0</td>\n",
       "      <td>0</td>\n",
       "      <td>0</td>\n",
       "      <td>0</td>\n",
       "    </tr>\n",
       "  </tbody>\n",
       "</table>\n",
       "<p>5 rows × 21 columns</p>\n",
       "</div>"
      ],
      "text/plain": [
       "      Old_age  Males  Chronic Kidney Diseases  COPD  Lung_cancer  \\\n",
       "3760        0      0                        0     0            0   \n",
       "3761        0      0                        0     0            0   \n",
       "3762        0      0                        0     0            0   \n",
       "3763        0      0                        0     0            0   \n",
       "3764        0      0                        0     0            0   \n",
       "\n",
       "      Weak_immune_1  Obesity  Serious_heart_diseases  Sickle_cell_disease  \\\n",
       "3760              0        0                       0                    0   \n",
       "3761              0        0                       0                    0   \n",
       "3762              0        0                       0                    0   \n",
       "3763              0        0                       0                    0   \n",
       "3764              0        0                       0                    0   \n",
       "\n",
       "      Asthma  ...  Cerebrovascular_disorder  Cystic_fibrosis  Hypertension  \\\n",
       "3760       0  ...                         0                0             0   \n",
       "3761       0  ...                         0                0             0   \n",
       "3762       0  ...                         0                0             0   \n",
       "3763       0  ...                         0                0             0   \n",
       "3764       0  ...                         0                0             0   \n",
       "\n",
       "      Weak_immune_2  Pregnancy  Liver_diseases  Pulmonary_fibrosis  Smoking  \\\n",
       "3760              0          0               0                   0        0   \n",
       "3761              0          0               0                   0        0   \n",
       "3762              0          0               0                   0        0   \n",
       "3763              0          0               0                   0        0   \n",
       "3764              0          0               0                   0        0   \n",
       "\n",
       "      Diabetes  Thalassemia  \n",
       "3760         0            0  \n",
       "3761         0            0  \n",
       "3762         0            0  \n",
       "3763         0            0  \n",
       "3764         0            0  \n",
       "\n",
       "[5 rows x 21 columns]"
      ]
     },
     "execution_count": 11,
     "metadata": {},
     "output_type": "execute_result"
    }
   ],
   "source": [
    "# Check risk factor names \n",
    "# list(dfa.Query)\n",
    "riskfactor_name_dic = dict(zip(list(dfa.Query),[[0]*dfn.shape[0]]*len(list(dfa.Query))))\n",
    "dfr = pd.DataFrame.from_dict(riskfactor_name_dic)\n",
    "dfr.tail()"
   ]
  },
  {
   "cell_type": "code",
   "execution_count": 12,
   "metadata": {},
   "outputs": [
    {
     "data": {
      "text/html": [
       "<div>\n",
       "<style scoped>\n",
       "    .dataframe tbody tr th:only-of-type {\n",
       "        vertical-align: middle;\n",
       "    }\n",
       "\n",
       "    .dataframe tbody tr th {\n",
       "        vertical-align: top;\n",
       "    }\n",
       "\n",
       "    .dataframe thead th {\n",
       "        text-align: right;\n",
       "    }\n",
       "</style>\n",
       "<table border=\"1\" class=\"dataframe\">\n",
       "  <thead>\n",
       "    <tr style=\"text-align: right;\">\n",
       "      <th></th>\n",
       "      <th>id</th>\n",
       "      <th>official_title</th>\n",
       "      <th>brief_summary</th>\n",
       "      <th>detailed_description</th>\n",
       "      <th>criteria</th>\n",
       "      <th>summary</th>\n",
       "      <th>CUI_summary</th>\n",
       "      <th>Old_age</th>\n",
       "      <th>Males</th>\n",
       "      <th>Chronic Kidney Diseases</th>\n",
       "      <th>...</th>\n",
       "      <th>Cerebrovascular_disorder</th>\n",
       "      <th>Cystic_fibrosis</th>\n",
       "      <th>Hypertension</th>\n",
       "      <th>Weak_immune_2</th>\n",
       "      <th>Pregnancy</th>\n",
       "      <th>Liver_diseases</th>\n",
       "      <th>Pulmonary_fibrosis</th>\n",
       "      <th>Smoking</th>\n",
       "      <th>Diabetes</th>\n",
       "      <th>Thalassemia</th>\n",
       "    </tr>\n",
       "  </thead>\n",
       "  <tbody>\n",
       "    <tr>\n",
       "      <th>0</th>\n",
       "      <td>NCT04385004</td>\n",
       "      <td>Characterization of the Clinical, Biological a...</td>\n",
       "      <td>Renal damage in patients hospitalized for ARDS...</td>\n",
       "      <td>NaN</td>\n",
       "      <td>Inclusion Criteria:## - Patients over 18 years...</td>\n",
       "      <td>Renal damage in patients hospitalized for ARDS...</td>\n",
       "      <td>[C1273518, C0935624, C0205082, C0275524, C0005...</td>\n",
       "      <td>0</td>\n",
       "      <td>0</td>\n",
       "      <td>0</td>\n",
       "      <td>...</td>\n",
       "      <td>0</td>\n",
       "      <td>0</td>\n",
       "      <td>0</td>\n",
       "      <td>0</td>\n",
       "      <td>0</td>\n",
       "      <td>0</td>\n",
       "      <td>0</td>\n",
       "      <td>0</td>\n",
       "      <td>0</td>\n",
       "      <td>0</td>\n",
       "    </tr>\n",
       "    <tr>\n",
       "      <th>1</th>\n",
       "      <td>NCT04426292</td>\n",
       "      <td>SARS-COV-2 Seroprevalence and Seroconversion A...</td>\n",
       "      <td>A novel zoonotic coronavirus was discovered in...</td>\n",
       "      <td>NaN</td>\n",
       "      <td>Inclusion Criteria:## - Any adult employee of ...</td>\n",
       "      <td>A novel zoonotic coronavirus was discovered in...</td>\n",
       "      <td>[C2237113, C2266627, C0886296, C0441621, C0229...</td>\n",
       "      <td>0</td>\n",
       "      <td>0</td>\n",
       "      <td>0</td>\n",
       "      <td>...</td>\n",
       "      <td>0</td>\n",
       "      <td>0</td>\n",
       "      <td>0</td>\n",
       "      <td>0</td>\n",
       "      <td>0</td>\n",
       "      <td>0</td>\n",
       "      <td>0</td>\n",
       "      <td>0</td>\n",
       "      <td>0</td>\n",
       "      <td>0</td>\n",
       "    </tr>\n",
       "  </tbody>\n",
       "</table>\n",
       "<p>2 rows × 28 columns</p>\n",
       "</div>"
      ],
      "text/plain": [
       "            id                                     official_title  \\\n",
       "0  NCT04385004  Characterization of the Clinical, Biological a...   \n",
       "1  NCT04426292  SARS-COV-2 Seroprevalence and Seroconversion A...   \n",
       "\n",
       "                                       brief_summary detailed_description  \\\n",
       "0  Renal damage in patients hospitalized for ARDS...                  NaN   \n",
       "1  A novel zoonotic coronavirus was discovered in...                  NaN   \n",
       "\n",
       "                                            criteria  \\\n",
       "0  Inclusion Criteria:## - Patients over 18 years...   \n",
       "1  Inclusion Criteria:## - Any adult employee of ...   \n",
       "\n",
       "                                             summary  \\\n",
       "0  Renal damage in patients hospitalized for ARDS...   \n",
       "1  A novel zoonotic coronavirus was discovered in...   \n",
       "\n",
       "                                         CUI_summary  Old_age  Males  \\\n",
       "0  [C1273518, C0935624, C0205082, C0275524, C0005...        0      0   \n",
       "1  [C2237113, C2266627, C0886296, C0441621, C0229...        0      0   \n",
       "\n",
       "   Chronic Kidney Diseases  ...  Cerebrovascular_disorder  Cystic_fibrosis  \\\n",
       "0                        0  ...                         0                0   \n",
       "1                        0  ...                         0                0   \n",
       "\n",
       "   Hypertension  Weak_immune_2  Pregnancy  Liver_diseases  Pulmonary_fibrosis  \\\n",
       "0             0              0          0               0                   0   \n",
       "1             0              0          0               0                   0   \n",
       "\n",
       "   Smoking  Diabetes  Thalassemia  \n",
       "0        0         0            0  \n",
       "1        0         0            0  \n",
       "\n",
       "[2 rows x 28 columns]"
      ]
     },
     "execution_count": 12,
     "metadata": {},
     "output_type": "execute_result"
    }
   ],
   "source": [
    "# dfd1 is a dataframe with risk factors about column 'summary': \n",
    "dfd1 = pd.concat([dfn,dfr],axis=1)\n",
    "dfd1.head(2)"
   ]
  },
  {
   "cell_type": "code",
   "execution_count": 13,
   "metadata": {},
   "outputs": [
    {
     "data": {
      "text/plain": [
       "(3765, 28)"
      ]
     },
     "execution_count": 13,
     "metadata": {},
     "output_type": "execute_result"
    }
   ],
   "source": [
    "dfd1.shape"
   ]
  },
  {
   "cell_type": "markdown",
   "metadata": {},
   "source": [
    "### Check risk factor occurance in summary"
   ]
  },
  {
   "cell_type": "code",
   "execution_count": 14,
   "metadata": {},
   "outputs": [
    {
     "data": {
      "text/html": [
       "<div>\n",
       "<style scoped>\n",
       "    .dataframe tbody tr th:only-of-type {\n",
       "        vertical-align: middle;\n",
       "    }\n",
       "\n",
       "    .dataframe tbody tr th {\n",
       "        vertical-align: top;\n",
       "    }\n",
       "\n",
       "    .dataframe thead th {\n",
       "        text-align: right;\n",
       "    }\n",
       "</style>\n",
       "<table border=\"1\" class=\"dataframe\">\n",
       "  <thead>\n",
       "    <tr style=\"text-align: right;\">\n",
       "      <th></th>\n",
       "      <th>id</th>\n",
       "      <th>official_title</th>\n",
       "      <th>brief_summary</th>\n",
       "      <th>detailed_description</th>\n",
       "      <th>criteria</th>\n",
       "      <th>summary</th>\n",
       "      <th>CUI_summary</th>\n",
       "      <th>Old_age</th>\n",
       "      <th>Males</th>\n",
       "      <th>Chronic Kidney Diseases</th>\n",
       "      <th>...</th>\n",
       "      <th>Cerebrovascular_disorder</th>\n",
       "      <th>Cystic_fibrosis</th>\n",
       "      <th>Hypertension</th>\n",
       "      <th>Weak_immune_2</th>\n",
       "      <th>Pregnancy</th>\n",
       "      <th>Liver_diseases</th>\n",
       "      <th>Pulmonary_fibrosis</th>\n",
       "      <th>Smoking</th>\n",
       "      <th>Diabetes</th>\n",
       "      <th>Thalassemia</th>\n",
       "    </tr>\n",
       "  </thead>\n",
       "  <tbody>\n",
       "    <tr>\n",
       "      <th>0</th>\n",
       "      <td>NCT04385004</td>\n",
       "      <td>Characterization of the Clinical, Biological a...</td>\n",
       "      <td>Renal damage in patients hospitalized for ARDS...</td>\n",
       "      <td>NaN</td>\n",
       "      <td>Inclusion Criteria:## - Patients over 18 years...</td>\n",
       "      <td>Renal damage in patients hospitalized for ARDS...</td>\n",
       "      <td>[C1273518, C0935624, C0205082, C0275524, C0005...</td>\n",
       "      <td>0</td>\n",
       "      <td>0</td>\n",
       "      <td>0</td>\n",
       "      <td>...</td>\n",
       "      <td>0</td>\n",
       "      <td>0</td>\n",
       "      <td>0</td>\n",
       "      <td>0</td>\n",
       "      <td>0</td>\n",
       "      <td>0</td>\n",
       "      <td>0</td>\n",
       "      <td>0</td>\n",
       "      <td>0</td>\n",
       "      <td>0</td>\n",
       "    </tr>\n",
       "    <tr>\n",
       "      <th>1</th>\n",
       "      <td>NCT04426292</td>\n",
       "      <td>SARS-COV-2 Seroprevalence and Seroconversion A...</td>\n",
       "      <td>A novel zoonotic coronavirus was discovered in...</td>\n",
       "      <td>NaN</td>\n",
       "      <td>Inclusion Criteria:## - Any adult employee of ...</td>\n",
       "      <td>A novel zoonotic coronavirus was discovered in...</td>\n",
       "      <td>[C2237113, C2266627, C0886296, C0441621, C0229...</td>\n",
       "      <td>0</td>\n",
       "      <td>0</td>\n",
       "      <td>0</td>\n",
       "      <td>...</td>\n",
       "      <td>0</td>\n",
       "      <td>0</td>\n",
       "      <td>0</td>\n",
       "      <td>0</td>\n",
       "      <td>0</td>\n",
       "      <td>0</td>\n",
       "      <td>0</td>\n",
       "      <td>0</td>\n",
       "      <td>0</td>\n",
       "      <td>0</td>\n",
       "    </tr>\n",
       "  </tbody>\n",
       "</table>\n",
       "<p>2 rows × 28 columns</p>\n",
       "</div>"
      ],
      "text/plain": [
       "            id                                     official_title  \\\n",
       "0  NCT04385004  Characterization of the Clinical, Biological a...   \n",
       "1  NCT04426292  SARS-COV-2 Seroprevalence and Seroconversion A...   \n",
       "\n",
       "                                       brief_summary detailed_description  \\\n",
       "0  Renal damage in patients hospitalized for ARDS...                  NaN   \n",
       "1  A novel zoonotic coronavirus was discovered in...                  NaN   \n",
       "\n",
       "                                            criteria  \\\n",
       "0  Inclusion Criteria:## - Patients over 18 years...   \n",
       "1  Inclusion Criteria:## - Any adult employee of ...   \n",
       "\n",
       "                                             summary  \\\n",
       "0  Renal damage in patients hospitalized for ARDS...   \n",
       "1  A novel zoonotic coronavirus was discovered in...   \n",
       "\n",
       "                                         CUI_summary  Old_age  Males  \\\n",
       "0  [C1273518, C0935624, C0205082, C0275524, C0005...        0      0   \n",
       "1  [C2237113, C2266627, C0886296, C0441621, C0229...        0      0   \n",
       "\n",
       "   Chronic Kidney Diseases  ...  Cerebrovascular_disorder  Cystic_fibrosis  \\\n",
       "0                        0  ...                         0                0   \n",
       "1                        0  ...                         0                0   \n",
       "\n",
       "   Hypertension  Weak_immune_2  Pregnancy  Liver_diseases  Pulmonary_fibrosis  \\\n",
       "0             0              0          0               0                   0   \n",
       "1             0              0          0               0                   0   \n",
       "\n",
       "   Smoking  Diabetes  Thalassemia  \n",
       "0        0         0            0  \n",
       "1        0         0            0  \n",
       "\n",
       "[2 rows x 28 columns]"
      ]
     },
     "execution_count": 14,
     "metadata": {},
     "output_type": "execute_result"
    }
   ],
   "source": [
    "# Assigining value 1 to the risk factor column if the risk factor appears in the column 'summary'\n",
    "# 0 means the corresponding risk factor doesn't appear in column 'summary' and \n",
    "# 1 means the corresponding risk factor appears in column 'summary'.\n",
    "for riskfactor,cuiList in risk_factor_dic.items():    \n",
    "    for i,row in dfd1.iterrows():\n",
    "        if intersection(row['CUI_summary'],cuiList):\n",
    "            dfd1.loc[i,riskfactor] = 1\n",
    "dfd1.head(2)"
   ]
  },
  {
   "cell_type": "code",
   "execution_count": 15,
   "metadata": {},
   "outputs": [
    {
     "data": {
      "text/plain": [
       "(3765, 28)"
      ]
     },
     "execution_count": 15,
     "metadata": {},
     "output_type": "execute_result"
    }
   ],
   "source": [
    "dfd1.shape"
   ]
  },
  {
   "cell_type": "code",
   "execution_count": 16,
   "metadata": {
    "scrolled": true
   },
   "outputs": [
    {
     "data": {
      "text/plain": [
       "Diabetes                    163\n",
       "Hypertension                121\n",
       "Weak_immune_2                90\n",
       "Obesity                      81\n",
       "Pregnancy                    78\n",
       "Neurological_disorder        66\n",
       "Cerebrovascular_disorder     51\n",
       "COPD                         43\n",
       "Serious_heart_diseases       42\n",
       "Asthma                       33\n",
       "Liver_diseases               21\n",
       "Cystic_fibrosis              17\n",
       "Lung_cancer                   9\n",
       "Pulmonary_fibrosis            9\n",
       "Weak_immune_1                 8\n",
       "Smoking                       6\n",
       "Old_age                       5\n",
       "Sickle_cell_disease           5\n",
       "Chronic Kidney Diseases       2\n",
       "Thalassemia                   1\n",
       "Males                         0\n",
       "dtype: int64"
      ]
     },
     "execution_count": 16,
     "metadata": {},
     "output_type": "execute_result"
    }
   ],
   "source": [
    "# Slicing the dataframe dfd1 to extract the risk factor part\n",
    "df1 = dfd1.loc[:,'Old_age':'Thalassemia']\n",
    "df1.sum(axis=0).sort_values(ascending=False)"
   ]
  },
  {
   "cell_type": "markdown",
   "metadata": {},
   "source": [
    "### Plot the Number of studies with the risk factor in trial description (summary)"
   ]
  },
  {
   "cell_type": "code",
   "execution_count": 17,
   "metadata": {
    "scrolled": false
   },
   "outputs": [
    {
     "data": {
      "image/png": "[encoded data removed]",
      "text/plain": [
       "<Figure size 864x576 with 1 Axes>"
      ]
     },
     "metadata": {},
     "output_type": "display_data"
    }
   ],
   "source": [
    "plt.style.use('fivethirtyeight')\n",
    "fig1 = plt.figure(figsize=(12,8))\n",
    "df1.sum(axis=0).sort_values(ascending=True).plot.barh()\n",
    "plt.title('Number of studies with the risk factor in trial description')\n",
    "for i,v in enumerate(df1.sum(axis=0).sort_values(ascending=True)):\n",
    "    plt.text(v + 1, i , str(v), color = 'red')\n",
    "    plt.text(v + 9, i , (\"{:.2%}\".format(v/3765)), color = 'green')"
   ]
  },
  {
   "cell_type": "code",
   "execution_count": 18,
   "metadata": {},
   "outputs": [],
   "source": [
    "fig1.savefig(\"./data/risk_factor_frequency.png\", dpi=300, bbox_inches = \"tight\")"
   ]
  }
 ],
 "metadata": {
  "kernelspec": {
   "display_name": "Python 3",
   "language": "python",
   "name": "python3"
  },
  "language_info": {
   "codemirror_mode": {
    "name": "ipython",
    "version": 3
   },
   "file_extension": ".py",
   "mimetype": "text/x-python",
   "name": "python",
   "nbconvert_exporter": "python",
   "pygments_lexer": "ipython3",
   "version": "3.7.6"
  }
 },
 "nbformat": 4,
 "nbformat_minor": 4
}
